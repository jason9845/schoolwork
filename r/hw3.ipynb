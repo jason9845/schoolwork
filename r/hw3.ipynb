{
 "cells": [
  {
   "cell_type": "markdown",
   "metadata": {
    "collapsed": true
   },
   "source": [
    "<h1 style=\"text-align:center\">FINA 4414 HW 3</h1>\n",
    "<h1 style=\"text-align:center\">Tushar Jain 20142361</h1>"
   ]
  },
  {
   "cell_type": "code",
   "execution_count": 1,
   "metadata": {
    "collapsed": true
   },
   "outputs": [],
   "source": [
    "aba <- read.csv(\"abalone.csv\",header=TRUE)"
   ]
  },
  {
   "cell_type": "markdown",
   "metadata": {},
   "source": [
    "<h3>Answer 1</h3>"
   ]
  },
  {
   "cell_type": "code",
   "execution_count": 2,
   "metadata": {
    "collapsed": false
   },
   "outputs": [
    {
     "ename": "ERROR",
     "evalue": "Error in vapply(seq_along(mapped), function(i) {: values must be length 1,\n but FUN(X[[1]]) result is length 0\n",
     "output_type": "error",
     "traceback": [
      "Error in vapply(seq_along(mapped), function(i) {: values must be length 1,\n but FUN(X[[1]]) result is length 0\n"
     ]
    },
    {
     "data": {
      "text/plain": [
       "$F\n",
       "\n",
       "Call:\n",
       "lm(formula = m[, 2] ~ m[, 3])\n",
       "\n",
       "Coefficients:\n",
       "(Intercept)       m[, 3]  \n",
       "    0.04288      1.17918  \n",
       "\n",
       "\n",
       "$I\n",
       "\n",
       "Call:\n",
       "lm(formula = m[, 2] ~ m[, 3])\n",
       "\n",
       "Coefficients:\n",
       "(Intercept)       m[, 3]  \n",
       "    0.02997      1.21833  \n",
       "\n",
       "\n",
       "$M\n",
       "\n",
       "Call:\n",
       "lm(formula = m[, 2] ~ m[, 3])\n",
       "\n",
       "Coefficients:\n",
       "(Intercept)       m[, 3]  \n",
       "    0.03653      1.19480  \n",
       "\n"
      ]
     },
     "execution_count": 2,
     "metadata": {},
     "output_type": "execute_result"
    }
   ],
   "source": [
    "myBy <- function(aDataFrame, aListOfFactors, aFunction) {\n",
    "    x <- split(aDataFrame, aListOfFactors)\n",
    "    lapply(x, aFunction)\n",
    "}\n",
    "myBy(aba, aba$Gender, function(m) lm(m[,2]~m[,3]))"
   ]
  },
  {
   "cell_type": "markdown",
   "metadata": {},
   "source": [
    "<h3>Answer 2</h3>"
   ]
  },
  {
   "cell_type": "code",
   "execution_count": 3,
   "metadata": {
    "collapsed": false
   },
   "outputs": [
    {
     "data": {
      "text/html": [
       "<table>\n",
       "<thead><tr><th></th><th scope=col>Length</th><th scope=col>Diameter</th><th scope=col>Height</th><th scope=col>WholeWt</th><th scope=col>ShuckedWt</th><th scope=col>ViscWt</th><th scope=col>ShellWt</th><th scope=col>Rings</th></tr></thead>\n",
       "<tbody>\n",
       "\t<tr><th scope=row>F</th><td>0.59</td><td>0.465</td><td>0.16</td><td>1.0385</td><td>0.4405</td><td>0.224</td><td>0.295</td><td>10</td></tr>\n",
       "\t<tr><th scope=row>I</th><td>0.435</td><td>0.335</td><td>0.11</td><td>0.384</td><td>0.16975</td><td>0.0805</td><td>0.113</td><td>8</td></tr>\n",
       "\t<tr><th scope=row>M</th><td>0.58</td><td>0.455</td><td>0.155</td><td>0.97575</td><td>0.42175</td><td>0.21</td><td>0.276</td><td>10</td></tr>\n",
       "</tbody>\n",
       "</table>\n"
      ],
      "text/latex": [
       "\\begin{tabular}{r|llllllll}\n",
       "  & Length & Diameter & Height & WholeWt & ShuckedWt & ViscWt & ShellWt & Rings\\\\\n",
       "\\hline\n",
       "\tF & 0.59 & 0.465 & 0.16 & 1.0385 & 0.4405 & 0.224 & 0.295 & 10\\\\\n",
       "\tI & 0.435 & 0.335 & 0.11 & 0.384 & 0.16975 & 0.0805 & 0.113 & 8\\\\\n",
       "\tM & 0.58 & 0.455 & 0.155 & 0.97575 & 0.42175 & 0.21 & 0.276 & 10\\\\\n",
       "\\end{tabular}\n"
      ],
      "text/markdown": [
       "1. 0.59\n",
       "2. 0.435\n",
       "3. 0.58\n",
       "4. 0.465\n",
       "5. 0.335\n",
       "6. 0.455\n",
       "7. 0.16\n",
       "8. 0.11\n",
       "9. 0.155\n",
       "10. 1.0385\n",
       "11. 0.384\n",
       "12. 0.97575\n",
       "13. 0.4405\n",
       "14. 0.16975\n",
       "15. 0.42175\n",
       "16. 0.224\n",
       "17. 0.0805\n",
       "18. 0.21\n",
       "19. 0.295\n",
       "20. 0.113\n",
       "21. 0.276\n",
       "22. 10\n",
       "23. 8\n",
       "24. 10\n",
       "\n",
       "\n"
      ],
      "text/plain": [
       "  Length Diameter Height WholeWt ShuckedWt ViscWt ShellWt Rings\n",
       "F 0.59   0.465    0.16   1.0385  0.4405    0.224  0.295   10   \n",
       "I 0.435  0.335    0.11   0.384   0.16975   0.0805 0.113   8    \n",
       "M 0.58   0.455    0.155  0.97575 0.42175   0.21   0.276   10   "
      ]
     },
     "execution_count": 3,
     "metadata": {},
     "output_type": "execute_result"
    }
   ],
   "source": [
    "myAggregate <- function(aDataFrame, aListOfFactors, aFunction) {\n",
    "    x <- split(aDataFrame, aListOfFactors)\n",
    "    t(sapply(x, lapply, median))\n",
    "}\n",
    "myAggregate(aba[,-1],list(aba$Gender),median)"
   ]
  },
  {
   "cell_type": "code",
   "execution_count": 4,
   "metadata": {
    "collapsed": false,
    "scrolled": true
   },
   "outputs": [
    {
     "name": "stderr",
     "output_type": "stream",
     "text": [
      "Loading required package: grid\n",
      "Loading required package: lattice\n"
     ]
    }
   ],
   "source": [
    "library(backtest)\n",
    "data(starmine)"
   ]
  },
  {
   "cell_type": "markdown",
   "metadata": {},
   "source": [
    "<h3>Answer 3</h3>"
   ]
  },
  {
   "cell_type": "code",
   "execution_count": 5,
   "metadata": {
    "collapsed": false,
    "scrolled": true
   },
   "outputs": [
    {
     "data": {
      "text/html": [
       "<dl class=dl-horizontal>\n",
       "\t<dt>smallCap</dt>\n",
       "\t\t<dd>-0.00062528752574831</dd>\n",
       "\t<dt>midCap</dt>\n",
       "\t\t<dd>-0.00241434500712249</dd>\n",
       "\t<dt>largeCap</dt>\n",
       "\t\t<dd>-0.000900752040435768</dd>\n",
       "</dl>\n"
      ],
      "text/latex": [
       "\\begin{description*}\n",
       "\\item[smallCap] -0.00062528752574831\n",
       "\\item[midCap] -0.00241434500712249\n",
       "\\item[largeCap] -0.000900752040435768\n",
       "\\end{description*}\n"
      ],
      "text/markdown": [
       "smallCap\n",
       ":   -0.00062528752574831midCap\n",
       ":   -0.00241434500712249largeCap\n",
       ":   -0.000900752040435768\n",
       "\n"
      ],
      "text/plain": [
       "     smallCap        midCap      largeCap \n",
       "-0.0006252875 -0.0024143450 -0.0009007520 "
      ]
     },
     "execution_count": 5,
     "metadata": {},
     "output_type": "execute_result"
    }
   ],
   "source": [
    "star <- starmine[ starmine$date == \"1995-01-31\",]\n",
    "star$cap <- star$cap.usd/1e9\n",
    "aBinVector <- c(0, 2, 10, max(star$cap, na.rm=TRUE)) # two bins\n",
    "star$capCategory <- cut(star$cap, aBinVector, labels=c(\"smallCap\", \"midCap\", \"largeCap\"))\n",
    "tapply(star$ret.0.1.m, star$capCategory, mean, na.rm=TRUE)"
   ]
  },
  {
   "cell_type": "markdown",
   "metadata": {},
   "source": [
    "<h3>Answer 4</h3>"
   ]
  },
  {
   "cell_type": "code",
   "execution_count": 6,
   "metadata": {
    "collapsed": false,
    "scrolled": true
   },
   "outputs": [
    {
     "data": {
      "text/html": [
       "<dl class=dl-horizontal>\n",
       "\t<dt>0%</dt>\n",
       "\t\t<dd>-22402.875</dd>\n",
       "\t<dt>25%</dt>\n",
       "\t\t<dd>5.50221992069858</dd>\n",
       "\t<dt>50%</dt>\n",
       "\t\t<dd>15.21367066412</dd>\n",
       "\t<dt>75%</dt>\n",
       "\t\t<dd>25.87904176538</dd>\n",
       "\t<dt>100%</dt>\n",
       "\t\t<dd>3551.57254464286</dd>\n",
       "</dl>\n"
      ],
      "text/latex": [
       "\\begin{description*}\n",
       "\\item[0%] -22402.875\n",
       "\\item[25%] 5.50221992069858\n",
       "\\item[50%] 15.21367066412\n",
       "\\item[75%] 25.87904176538\n",
       "\\item[100%] 3551.57254464286\n",
       "\\end{description*}\n"
      ],
      "text/markdown": [
       "0%\n",
       ":   -22402.87525%\n",
       ":   5.5022199206985850%\n",
       ":   15.2136706641275%\n",
       ":   25.87904176538100%\n",
       ":   3551.57254464286\n",
       "\n"
      ],
      "text/plain": [
       "          0%          25%          50%          75%         100% \n",
       "-22402.87500      5.50222     15.21367     25.87904   3551.57254 "
      ]
     },
     "execution_count": 6,
     "metadata": {},
     "output_type": "execute_result"
    }
   ],
   "source": [
    "star$pe <- star$cap.usd/star$net.income\n",
    "quantile(star$pe, probs = seq(0, 1, length = 4 + 1), na.rm = TRUE)\n",
    "# THREE PE Values: values that correspond to 25%, 50% and 75%"
   ]
  },
  {
   "cell_type": "code",
   "execution_count": 7,
   "metadata": {
    "collapsed": false
   },
   "outputs": [
    {
     "data": {
      "text/html": [
       "<dl class=dl-horizontal>\n",
       "\t<dt>Bin1</dt>\n",
       "\t\t<dd>-43.3296419014153</dd>\n",
       "\t<dt>Bin2</dt>\n",
       "\t\t<dd>11.0563703289812</dd>\n",
       "\t<dt>Bin3</dt>\n",
       "\t\t<dd>20.0769272087729</dd>\n",
       "\t<dt>Bin4</dt>\n",
       "\t\t<dd>82.7196242521529</dd>\n",
       "</dl>\n"
      ],
      "text/latex": [
       "\\begin{description*}\n",
       "\\item[Bin1] -43.3296419014153\n",
       "\\item[Bin2] 11.0563703289812\n",
       "\\item[Bin3] 20.0769272087729\n",
       "\\item[Bin4] 82.7196242521529\n",
       "\\end{description*}\n"
      ],
      "text/markdown": [
       "Bin1\n",
       ":   -43.3296419014153Bin2\n",
       ":   11.0563703289812Bin3\n",
       ":   20.0769272087729Bin4\n",
       ":   82.7196242521529\n",
       "\n"
      ],
      "text/plain": [
       "     Bin1      Bin2      Bin3      Bin4 \n",
       "-43.32964  11.05637  20.07693  82.71962 "
      ]
     },
     "execution_count": 7,
     "metadata": {},
     "output_type": "execute_result"
    }
   ],
   "source": [
    "star$peBin <- cut(star$pe, quantile(star$pe, probs = seq(0, 1, length = 4 + 1), na.rm = TRUE), labels=c(\"Bin1\", \"Bin2\", \"Bin3\", \"Bin4\"))\n",
    "tapply(star$pe, star$peBin, mean, na.rm=TRUE)"
   ]
  },
  {
   "cell_type": "code",
   "execution_count": 8,
   "metadata": {
    "collapsed": false
   },
   "outputs": [
    {
     "data": {
      "text/html": [
       "<dl class=dl-horizontal>\n",
       "\t<dt>Bin1</dt>\n",
       "\t\t<dd>718</dd>\n",
       "\t<dt>Bin2</dt>\n",
       "\t\t<dd>719</dd>\n",
       "\t<dt>Bin3</dt>\n",
       "\t\t<dd>718</dd>\n",
       "\t<dt>Bin4</dt>\n",
       "\t\t<dd>719</dd>\n",
       "</dl>\n"
      ],
      "text/latex": [
       "\\begin{description*}\n",
       "\\item[Bin1] 718\n",
       "\\item[Bin2] 719\n",
       "\\item[Bin3] 718\n",
       "\\item[Bin4] 719\n",
       "\\end{description*}\n"
      ],
      "text/markdown": [
       "Bin1\n",
       ":   718Bin2\n",
       ":   719Bin3\n",
       ":   718Bin4\n",
       ":   719\n",
       "\n"
      ],
      "text/plain": [
       "Bin1 Bin2 Bin3 Bin4 \n",
       " 718  719  718  719 "
      ]
     },
     "execution_count": 8,
     "metadata": {},
     "output_type": "execute_result"
    }
   ],
   "source": [
    "tapply(star$symbol, star$peBin, length)"
   ]
  },
  {
   "cell_type": "code",
   "execution_count": 9,
   "metadata": {
    "collapsed": false
   },
   "outputs": [
    {
     "data": {
      "text/html": [
       "<table>\n",
       "<thead><tr><th></th><th scope=col>Group.1</th><th scope=col>ret.0.1.m</th><th scope=col>cap.usd</th></tr></thead>\n",
       "<tbody>\n",
       "\t<tr><th scope=row>1</th><td>Bin1</td><td>-0.006377635</td><td>2932993543</td></tr>\n",
       "\t<tr><th scope=row>2</th><td>Bin2</td><td>0.03937414</td><td>2189583535</td></tr>\n",
       "\t<tr><th scope=row>3</th><td>Bin3</td><td>0.03339594</td><td>3002006621</td></tr>\n",
       "\t<tr><th scope=row>4</th><td>Bin4</td><td>0.03912284</td><td>2332918134</td></tr>\n",
       "</tbody>\n",
       "</table>\n"
      ],
      "text/latex": [
       "\\begin{tabular}{r|lll}\n",
       "  & Group.1 & ret.0.1.m & cap.usd\\\\\n",
       "\\hline\n",
       "\t1 & Bin1 & -0.006377635 & 2932993543\\\\\n",
       "\t2 & Bin2 & 0.03937414 & 2189583535\\\\\n",
       "\t3 & Bin3 & 0.03339594 & 3002006621\\\\\n",
       "\t4 & Bin4 & 0.03912284 & 2332918134\\\\\n",
       "\\end{tabular}\n"
      ],
      "text/plain": [
       "  Group.1    ret.0.1.m    cap.usd\n",
       "1    Bin1 -0.006377635 2932993543\n",
       "2    Bin2  0.039374136 2189583535\n",
       "3    Bin3  0.033395942 3002006621\n",
       "4    Bin4  0.039122843 2332918134"
      ]
     },
     "execution_count": 9,
     "metadata": {},
     "output_type": "execute_result"
    }
   ],
   "source": [
    "aggregate(star[, c(\"ret.0.1.m\", \"cap.usd\")],list(star$peBin),mean,na.rm=TRUE)"
   ]
  },
  {
   "cell_type": "code",
   "execution_count": 10,
   "metadata": {
    "collapsed": false
   },
   "outputs": [
    {
     "data": {
      "text/html": [
       "<table>\n",
       "<thead><tr><th></th><th scope=col>smallCap</th><th scope=col>midCap</th><th scope=col>largeCap</th></tr></thead>\n",
       "<tbody>\n",
       "\t<tr><th scope=row>Bin1</th><td> 0.01318811</td><td>-0.04323427</td><td>-0.04271589</td></tr>\n",
       "\t<tr><th scope=row>Bin2</th><td>0.03998844</td><td>0.03622898</td><td>0.04399791</td></tr>\n",
       "\t<tr><th scope=row>Bin3</th><td>0.03499602</td><td>0.03437969</td><td>0.01229301</td></tr>\n",
       "\t<tr><th scope=row>Bin4</th><td>0.04130409</td><td>0.03795077</td><td>0.01133614</td></tr>\n",
       "</tbody>\n",
       "</table>\n"
      ],
      "text/latex": [
       "\\begin{tabular}{r|lll}\n",
       "  & smallCap & midCap & largeCap\\\\\n",
       "\\hline\n",
       "\tBin1 &  0.01318811 & -0.04323427 & -0.04271589\\\\\n",
       "\tBin2 & 0.03998844 & 0.03622898 & 0.04399791\\\\\n",
       "\tBin3 & 0.03499602 & 0.03437969 & 0.01229301\\\\\n",
       "\tBin4 & 0.04130409 & 0.03795077 & 0.01133614\\\\\n",
       "\\end{tabular}\n"
      ],
      "text/markdown": [
       "1. 0.0131881077042677\n",
       "2. 0.0399884419941807\n",
       "3. 0.0349960171767885\n",
       "4. 0.0413040886136373\n",
       "5. -0.0432342655981016\n",
       "6. 0.0362289771071882\n",
       "7. 0.0343796858013847\n",
       "8. 0.0379507665251504\n",
       "9. -0.0427158898267735\n",
       "10. 0.0439979069308516\n",
       "11. 0.0122930076464655\n",
       "12. 0.0113361354998757\n",
       "\n",
       "\n"
      ],
      "text/plain": [
       "       smallCap      midCap    largeCap\n",
       "Bin1 0.01318811 -0.04323427 -0.04271589\n",
       "Bin2 0.03998844  0.03622898  0.04399791\n",
       "Bin3 0.03499602  0.03437969  0.01229301\n",
       "Bin4 0.04130409  0.03795077  0.01133614"
      ]
     },
     "execution_count": 10,
     "metadata": {},
     "output_type": "execute_result"
    }
   ],
   "source": [
    "tapply(star$ret.0.1.m, list(star$peBin, star$capCategory), mean, na.rm=TRUE)"
   ]
  }
 ],
 "metadata": {
  "kernelspec": {
   "display_name": "R",
   "language": "R",
   "name": "ir"
  },
  "language_info": {
   "codemirror_mode": "r",
   "file_extension": ".r",
   "mimetype": "text/x-r-source",
   "name": "R",
   "pygments_lexer": "r",
   "version": "3.2.3"
  }
 },
 "nbformat": 4,
 "nbformat_minor": 0
}
